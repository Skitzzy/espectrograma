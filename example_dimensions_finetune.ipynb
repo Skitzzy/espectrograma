{
 "cells": [
  {
   "cell_type": "code",
   "execution_count": 14,
   "metadata": {},
   "outputs": [],
   "source": [
    "%reload_ext autoreload\n",
    "%autoreload 2\n",
    "\n",
    "import matplotlib as mpl\n",
    "mpl.rcParams['font.family'] = 'monospace'  # Set the text font\n",
    "\n",
    "from main import Spectrogram"
   ]
  },
  {
   "cell_type": "markdown",
   "metadata": {},
   "source": [
    "If the image is to be printed, it is desireable for it to have a specific ratio and pixel dimensions. However, matplotlib makes it a bit difficult to save an plot with specific ratio and pixel width & height values. It can be done with somewhat of a workaround. \n",
    "\n",
    "Imagine you want the spectrogram to be 720x1080. You can achieve that adjusting the bbox_inches parameters in the .plot() method."
   ]
  },
  {
   "cell_type": "code",
   "execution_count": 41,
   "metadata": {},
   "outputs": [],
   "source": [
    "# First, initialize the spectrogram\n",
    "\n",
    "path_audio = 'songs/bach_A_minor.mp3'\n",
    "\n",
    "# Create a Spectrogram object\n",
    "Spec = Spectrogram(path_audio)\n",
    "Spec.set_freq_range('C#4', 'F#6')\n",
    "window_size = 0.1  \n",
    "Spec.make_spectrogram(window_size)"
   ]
  },
  {
   "cell_type": "code",
   "execution_count": 43,
   "metadata": {},
   "outputs": [
    {
     "name": "stdout",
     "output_type": "stream",
     "text": [
      "Image dimensions (720, 1080)\n",
      "y/x ratio: 1.5\n"
     ]
    }
   ],
   "source": [
    "# We start by defining some cropping parameters. These you will have to adjust till the image looks how you like.\n",
    "\n",
    "x0 = 0.075  # left corner\n",
    "y0 = 0.06  # bottom corner\n",
    "crop = 0.95  # percentage of the image saved\n",
    "\n",
    "# This is the desired ratio when SAVING the image\n",
    "f_height = 1080\n",
    "f_width = 720\n",
    "ratio = f_height/f_width  # height / width\n",
    "\n",
    "# However, when plotting, we can set another ratio so we can play with the layout\n",
    "# Although there is no need for that\n",
    "plot_ratio = 1.7\n",
    "\n",
    "Spec.set_title(title='Partita A Minor - J. S. Bach', \n",
    "               position=(0.015, 0.93)),\n",
    "Spec.set_plot_params(\n",
    "                     fig_size=f_width / crop,\n",
    "                     ratio=plot_ratio, \n",
    "                     )\n",
    "\n",
    "\n",
    "savepath = f'figures/Bach_A_minor_{f_height}x{f_width}.jpg'\n",
    "\n",
    "Spec.plot(savepath=savepath, \n",
    "          bbox_inches=(x0, y0, crop, ratio)\n",
    "          )\n",
    "\n",
    "# Let's check if the dimensions of the image are correct\n",
    "Spec.check_saved_image()"
   ]
  },
  {
   "cell_type": "markdown",
   "metadata": {},
   "source": [
    "Correct, so we now have a nice 720x1080 image"
   ]
  }
 ],
 "metadata": {
  "kernelspec": {
   "display_name": "spec",
   "language": "python",
   "name": "python3"
  },
  "language_info": {
   "codemirror_mode": {
    "name": "ipython",
    "version": 3
   },
   "file_extension": ".py",
   "mimetype": "text/x-python",
   "name": "python",
   "nbconvert_exporter": "python",
   "pygments_lexer": "ipython3",
   "version": "3.11.7"
  }
 },
 "nbformat": 4,
 "nbformat_minor": 2
}
