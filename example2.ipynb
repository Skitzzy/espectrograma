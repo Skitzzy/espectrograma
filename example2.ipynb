{
 "cells": [
  {
   "cell_type": "code",
   "execution_count": 3,
   "metadata": {},
   "outputs": [],
   "source": [
    "%reload_ext autoreload\n",
    "%autoreload 2\n",
    "\n",
    "import matplotlib as mpl\n",
    "mpl.rcParams['font.family'] = 'monospace'  # Set the text font\n",
    "\n",
    "import plot_utils as pu\n",
    "from main import Spectrogram"
   ]
  },
  {
   "cell_type": "code",
   "execution_count": 31,
   "metadata": {},
   "outputs": [],
   "source": [
    "path_audio = 'songs/bach_A_minor.mp3'\n",
    "\n",
    "Spec = Spectrogram(path_audio)\n",
    "\n",
    "# Set the frequency range (notes or frequency values)\n",
    "Spec.set_freq_range('C#4', 'F#6')\n",
    "\n",
    "# Set the window size of the spectrogram\n",
    "window_size = 0.2  # seconds\n",
    "Spec.make_spectrogram(window_size)\n",
    "\n",
    "Spec.set_title(title='Partita A Minor - J. S. Bach', modify='d0.5')\n",
    "Spec.set_xticks(modify='d0.1')\n",
    "Spec.set_yticks(modify='d0.5')\n",
    "\n",
    "Spec.set_plot_params(\n",
    "                    ratio=16/9,\n",
    "                    number_lines=200,\n",
    "                     facecolor='#eaebcc', \n",
    "                     cmap1=('binary_r', 0.0, 0.8), \n",
    "                     cmap2=('twilight', 0.3, 0.7), \n",
    "                     linewidth=0.055,\n",
    "                     y_max=1.1,\n",
    "                     fig_size=1920,\n",
    "                     color_spectra_power=5)\n",
    "\n",
    "savepath = 'Bach_A_minor_2.png'\n",
    "\n",
    "Spec.plot(savepath=savepath)"
   ]
  },
  {
   "cell_type": "code",
   "execution_count": 38,
   "metadata": {},
   "outputs": [],
   "source": [
    "path_audio = 'songs/bach_A_minor.mp3'\n",
    "\n",
    "Spec = Spectrogram(path_audio)\n",
    "\n",
    "# Set the frequency range (notes or frequency values)\n",
    "Spec.set_freq_range('C4', 'F#6')\n",
    "\n",
    "# Set the window size of the spectrogram\n",
    "window_size = 0.3  # seconds\n",
    "Spec.make_spectrogram(window_size, moving_average=12)\n",
    "\n",
    "Spec.set_title(title='Partita A Minor - J. S. Bach', modify='d0.5')\n",
    "Spec.set_xticks(label_size=1.1, modify='d0.1', key='A_minor')\n",
    "Spec.set_yticks(modify='d0.5')\n",
    "\n",
    "Spec.set_plot_params(\n",
    "                    ratio=0.9*16/9,\n",
    "                    number_lines=194,\n",
    "                     facecolor='#eaebcc', \n",
    "                     cmap1=('binary_r', 0.0, 0.8), \n",
    "                     cmap2=('twilight', 0.3, 0.7), \n",
    "                     linewidth=0.055,\n",
    "                     y_max=1.1,\n",
    "                     fig_size=1920,\n",
    "                     color_spectra_power=5)\n",
    "\n",
    "savefolder='figures/bach_a_minor/pngs/'\n",
    "\n",
    "#Spec.plot()\n",
    "\n",
    "Spec.plot_frames(savefolder=savefolder)"
   ]
  },
  {
   "cell_type": "code",
   "execution_count": 35,
   "metadata": {},
   "outputs": [
    {
     "data": {
      "text/plain": [
       "1"
      ]
     },
     "execution_count": 35,
     "metadata": {},
     "output_type": "execute_result"
    }
   ],
   "source": [
    "alpha_ = 1.1\n",
    "alpha_ = min(alpha_, 1)\n",
    "alpha_"
   ]
  },
  {
   "cell_type": "code",
   "execution_count": 15,
   "metadata": {},
   "outputs": [],
   "source": [
    "fps = 200/58.2"
   ]
  },
  {
   "cell_type": "code",
   "execution_count": 16,
   "metadata": {},
   "outputs": [],
   "source": [
    "\n",
    "\n"
   ]
  },
  {
   "cell_type": "code",
   "execution_count": 17,
   "metadata": {},
   "outputs": [
    {
     "name": "stdout",
     "output_type": "stream",
     "text": [
      "Video with audio added successfully: figures/bach_a_minor/video_with_audio.mp4\n"
     ]
    }
   ],
   "source": [
    "savefolder='figures/bach_a_minor/pngs'\n",
    "\n",
    "pu.png_to_mp4(savefolder, extension='.jpg', fps=fps)\n",
    "\n",
    "path_audio = 'songs/bach_A_minor.mp3'\n",
    "path_video = 'figures/bach_a_minor/video.mp4'\n",
    "path_output = 'figures/bach_a_minor/video_with_audio.mp4'\n",
    "\n",
    "pu.add_audio_to_video(path_video, path_audio, path_output)"
   ]
  },
  {
   "cell_type": "code",
   "execution_count": 7,
   "metadata": {},
   "outputs": [],
   "source": [
    "Spec.set_freq_range('B3', 'A6')\n",
    "# Spec.trim_audio(0, 59)\n",
    "bin_size = 0.1\n",
    "frequency_resolution = 100\n",
    "Spec.make_spectrogram(bin_size, frequency_resolution=frequency_resolution)"
   ]
  },
  {
   "cell_type": "code",
   "execution_count": 10,
   "metadata": {},
   "outputs": [
    {
     "data": {
      "text/plain": [
       "441000.0"
      ]
     },
     "execution_count": 10,
     "metadata": {},
     "output_type": "execute_result"
    }
   ],
   "source": [
    "10/Spec.dt"
   ]
  },
  {
   "cell_type": "code",
   "execution_count": null,
   "metadata": {},
   "outputs": [],
   "source": [
    "\n",
    "\n",
    "\n",
    "\n",
    "bin_size = 0.05\n",
    "Spec.make_spectrogram(bin_size)\n",
    "\n",
    "spec = Spec.spec    \n",
    "x_f = Spec.x_f"
   ]
  },
  {
   "cell_type": "code",
   "execution_count": 458,
   "metadata": {},
   "outputs": [],
   "source": [
    "with open('data/chromatic_scale.json') as f:\n",
    "    chromatic_scale = json.load(f)\n",
    "x_min = chromatic_scale[\"B3\"]\n",
    "x_max = chromatic_scale[\"A6\"]\n",
    "\n",
    "path_audio = 'songs/partita_A_minor.mp3'\n",
    "\n",
    "audio = AudioSegment.from_file(path_audio, format=\"mp3\")\n",
    "\n",
    "sf = audio.frame_rate\n",
    "audio_data = np.mean(np.array(audio.get_array_of_samples()).reshape((-1, 2)), axis=1)\n",
    "\n",
    "\n",
    "dt = 1.0 / sf\n",
    "\n",
    "sec_i, sec_f = 0, 59\n",
    "audio_data = audio_data[int(sec_i / dt) : int(sec_f / dt)]\n",
    "\n",
    "\n",
    "\n",
    "\n",
    "\n",
    "bin_size = 0.2\n",
    "\n",
    "N = int(bin_size // dt)  # Number of data points per bin \n",
    "M = int(len(audio_data) // N)  # Number of bins in the spectrogram\n",
    "\n",
    "x_f = sp.fft.fftfreq(N, dt)[: N // 2]\n",
    "\n",
    "x_f_trimmed = x_f[(x_f>x_min) & (x_f<x_max)]\n",
    "\n",
    "audio_data = audio_data[:int(M * N)]\n",
    "audio_data_arr = audio_data.reshape((M, N))\n",
    "\n",
    "def power_spectrum(audio_data):\n",
    "    f = (2.0 / (N // 2)) * np.abs(sp.fft.fft(audio_data)[: N // 2])[(x_f>x_min) & (x_f<x_max)]\n",
    "    return f\n",
    "\n",
    "k = 50\n",
    "xx = [np.linspace(0, 1, k)]  # Start with the initial linspace\n",
    "xx += [np.linspace(2**i, 2**(i+1), k) for i in range(11)]  # Append other ranges\n",
    "xx = np.concatenate(xx)\n",
    "\n",
    "win = k//10\n",
    "\n",
    "def interpolate(f):\n",
    "    result = np.interp(xx, x_f_trimmed, f)\n",
    "    return result\n",
    "\n",
    "def moving_average(a, n=win):\n",
    "    ret = np.cumsum(a, dtype=float)\n",
    "    ret[n:] = ret[n:] - ret[:-n]\n",
    "    return ret[n - 1 :] / n\n",
    "\n",
    "\n",
    "\n",
    "spec = np.apply_along_axis(power_spectrum, 1, audio_data_arr)\n",
    "spec = np.apply_along_axis(interpolate, 1, spec)\n",
    "spec = np.apply_along_axis(moving_average, 1, spec)\n",
    "\n",
    "xx = xx[win // 2 - 1 : -win // 2]\n",
    "\n",
    "# spec_max = np.apply_along_axis(np.max, 1, spec)\n",
    "# top = np.percentile(spec_max,80)\n",
    "# def topa(y):\n",
    "#     if y.max() > top:\n",
    "#         y_f = top*y/y.max()\n",
    "#         return y_f\n",
    "#     else:\n",
    "#         return y  \n",
    "    \n",
    "# spec = np.apply_along_axis(topa, 1, spec) \n",
    "\n",
    "# def sigmoid1(y, x_i=x_min, x_f=x_max, y_max=1, y_0=0, slope=1, p=.0):\n",
    "#     dif = x_f - x_i\n",
    "#     x_ii = x_i + dif*p\n",
    "#     x_ff = x_f - dif*0.01\n",
    "#     sigm_rise =  y_0 + y_max / (1 + np.exp((x_ii-xx)*slope))\n",
    "#     sigm_fall =  y_0 + y_max / (1 + np.exp(-(x_ff-xx)*slope))\n",
    "#     sigm = sigm_rise*sigm_fall\n",
    "#     sigm = sigm/np.max(sigm)\n",
    "#     return y*sigm\n",
    "\n",
    "# spec = np.apply_along_axis(sigmoid1, 1, spec)  \n"
   ]
  },
  {
   "cell_type": "code",
   "execution_count": 459,
   "metadata": {},
   "outputs": [
    {
     "name": "stdout",
     "output_type": "stream",
     "text": [
      "(1026, 1589)\n"
     ]
    }
   ],
   "source": [
    "\n",
    "\n",
    "fig_size = 1080\n",
    "Fig = Figure(fig_size=fig_size, ratio=0.9*16/9, dpi=500, show=False, sw=0)\n",
    "\n",
    "ax = Fig.ax\n",
    "fs = Fig.fs\n",
    "\n",
    "spec_norm = 0.15*spec/np.max(spec)\n",
    "\n",
    "def sigmoid(x):\n",
    "    return 1*(1 / (1 + np.exp(20*(0.5-x))))\n",
    "\n",
    "cmap = plt.get_cmap('bone')\n",
    "colors = cmap(np.linspace(0.1,1, 256))\n",
    "cmap = LinearSegmentedColormap.from_list('truncated_bone', colors)\n",
    "norm = plt.Normalize(spec_norm.min(), spec_norm.max()*0.75)\n",
    "\n",
    "cmap_2 = plt.get_cmap('cool')\n",
    "colors_2 = cmap_2(np.linspace(0,1, 256))\n",
    "cmap_2 = LinearSegmentedColormap.from_list('truncated_jet', colors_2)\n",
    "norm_2 = plt.Normalize(x_min, x_max)\n",
    "\n",
    "L = 100\n",
    "steps = [int(val) for val in np.linspace(0, M-1, L)]\n",
    "lw = 0.05\n",
    "secs = []\n",
    "for i, step in enumerate(steps):\n",
    "\n",
    "    y_0 = 1-i/len(steps)\n",
    "    secs.append([y_0, step*bin_size])\n",
    "\n",
    "    \n",
    "    ax.fill_between(xx, spec_norm[step,:]+y_0, np.full((len(xx)), y_0), facecolor='k', edgecolor='w', linewidth=0.0, zorder=i-1)\n",
    "\n",
    "    ax.plot(xx, spec_norm[step,:]+y_0, color='w', linewidth=lw*fs, zorder=i)\n",
    "    \n",
    "    points = np.array([xx, spec_norm[step, :] + y_0]).T.reshape(-1, 1, 2)\n",
    "    segments = np.concatenate([points[:-1], points[1:]], axis=1)\n",
    "\n",
    "    lc = LineCollection(segments,\n",
    "                         cmap=cmap,\n",
    "                         norm=norm,\n",
    "                        alpha=1,\n",
    "                        linewidth=lw*fs*2,\n",
    "                        zorder=i)\n",
    "    \n",
    "    lc.set_array(spec_norm[step, :])\n",
    "    line = ax.add_collection(lc)\n",
    "\n",
    "    alphas =  (spec_norm[step,:])/spec_norm.max()\n",
    "    # clip alphas to 1\n",
    "    #alphas = np.clip(alphas, 0, 1)\n",
    "    alphas = alphas**(1/2)\n",
    "    alphas = sigmoid(alphas)\n",
    "\n",
    "    lc_2 = LineCollection(segments,\n",
    "                cmap=cmap_2,\n",
    "                norm=norm_2,\n",
    "                alpha= alphas,\n",
    "                linewidth=lw*fs*2,\n",
    "                zorder=i)\n",
    "\n",
    "    lc_2.set_array(xx)\n",
    "    line = ax.add_collection(lc_2)\n",
    "\n",
    "ax.set_ylim(0,1.05)\n",
    "\n",
    "ax.set_xscale(\"log\", base=2)\n",
    "\n",
    "\n",
    "\n",
    "key = ['G#2','A2', 'B2', 'C#3', 'D#3', 'E3', 'F#3', 'G#3', 'A3', 'B3', 'C#4', 'D#4',\n",
    "       'E4', 'F#4', 'G#4', 'A4', 'B4', 'C#5', 'D#5', 'E5', 'F#5', 'G#5']\n",
    "\n",
    "key = ['C1', 'D1', 'E1', 'F1', 'G1', 'A1', 'B1', 'C2', 'D2', 'E2', 'F2', 'G2',\n",
    "       'A2', 'B2', 'C3', 'D3', 'E3', 'F3', 'G3', 'A3', 'B3', 'C4', 'D4', 'E4',\n",
    "       'F4', 'G4', 'A4', 'B4', 'C5', 'D5', 'E5', 'F5',\n",
    "       'G5', 'A5', 'B5', 'C6', 'D6', 'E6', 'F6', 'G6',\n",
    "       'A6', 'B6', 'C7', 'D7', 'E7', 'F7',\n",
    "       'G7', 'A7', 'B7', 'C8', 'D8', 'E8', 'F8', 'G8',]\n",
    "\n",
    "x_labels = {k:chromatic_scale[k] for k in key if k in chromatic_scale}\n",
    "ax.set_xticks(list(x_labels.values())) \n",
    "ax.set_xticklabels(x_labels,\n",
    "                   fontsize=1*fs,\n",
    "                   alpha=1, \n",
    "                   va='center',\n",
    "                   ha='center',\n",
    "                   color='w')\n",
    "\n",
    "ax.set_xlim(x_min, x_max*1)\n",
    "\n",
    "value = 200\n",
    "color = (value/256, value/256, value/256)\n",
    "\n",
    "m = 5\n",
    "# seconds = [bin_size *  * i for i in range(len(steps))][::m]\n",
    "secs = np.array(secs)\n",
    "y_labels = [str(datetime.timedelta(seconds=i))[2:7] for i in secs[:,1]][::m]\n",
    "ax.set_yticks(secs[:,0][::m])\n",
    "ax.set_yticklabels(y_labels,\n",
    "                   fontsize=1*fs,\n",
    "                   alpha=0.8, color=color,\n",
    "                   )\n",
    "ax.tick_params(axis='y', which='major', pad=0.1*fs)\n",
    "ax.tick_params(axis='x', which='major', pad=0.1*fs)\n",
    "\n",
    "\n",
    "\n",
    "\n",
    "for label in ax.get_xticklabels():\n",
    "    dif = x_max - x_min\n",
    "    position = label.get_position()\n",
    "    rgb = (position[0] - x_min)/dif\n",
    "    c = list(cmap_2(rgb))\n",
    "    c = ut.lighten_color(c, amount=0.3)\n",
    "    label.set_color(tuple(c))\n",
    "\n",
    "ax.set_title('Partita A minor',\n",
    "             fontsize = 1*fs,\n",
    "             color=color,\n",
    "             alpha=0.8,\n",
    "             loc='left',\n",
    "             y=0.995)\n",
    "\n",
    "# set yaxis right\n",
    "ax.yaxis.tick_right()\n",
    "\n",
    "fh = Fig.fig_height\n",
    "fw = Fig.fig_width\n",
    "ratio = Fig.ratio\n",
    "dpi = Fig.dpi\n",
    "\n",
    "rat = 3/2\n",
    "dr_x = 0.05\n",
    "dr_y = dr_x*ratio\n",
    "x0, y0 = 0.075*fw, 0.02*fh\n",
    "\n",
    "x0, x1 = x0, x0 + fw*(1-dr_x)\n",
    "y0, y1 = y0, y0 + fh*(1-dr_y)\n",
    "\n",
    "path = 'image.jpg'\n",
    "Fig.save(path, bbox_inches=mpl.transforms.Bbox([[x0, y0], [x1, y1]]))\n",
    "Fig.check_saved_image()"
   ]
  },
  {
   "cell_type": "code",
   "execution_count": 439,
   "metadata": {},
   "outputs": [
    {
     "data": {
      "text/plain": [
       "array([0.31244614, 0.31244614, 0.31244614, ..., 0.25583789, 0.25583789,\n",
       "       0.25583789])"
      ]
     },
     "execution_count": 439,
     "metadata": {},
     "output_type": "execute_result"
    }
   ],
   "source": [
    "alphas"
   ]
  },
  {
   "cell_type": "code",
   "execution_count": 311,
   "metadata": {},
   "outputs": [
    {
     "data": {
      "text/plain": [
       "[<matplotlib.lines.Line2D at 0x29e3f8bd710>]"
      ]
     },
     "execution_count": 311,
     "metadata": {},
     "output_type": "execute_result"
    },
    {
     "data": {
      "image/png": "[encoded data removed]",
      "text/plain": [
       "<Figure size 750x500 with 1 Axes>"
      ]
     },
     "metadata": {},
     "output_type": "display_data"
    }
   ],
   "source": [
    "#simple figure\n",
    "fig = plt.figure(figsize=(7.5,5))   \n",
    "ax = fig.add_subplot(111)\n",
    "\n",
    "def sigmoid1(y, x_i=500, x_f=1000, y_max=1, y_0=0, slope=0.1):\n",
    "    sigm_rise =  y_0 + y_max / (1 + np.exp((x_i-xx)*slope))\n",
    "    sigm_fall =  y_0 + y_max / (1 + np.exp(-(x_f-xx)*slope))\n",
    "    sigm = sigm_rise*sigm_fall\n",
    "    sigm = 2**sigm\n",
    "    sigm = sigm/np.max(sigm)\n",
    "    return y*sigm\n",
    "\n",
    "y = np.full((len(xx)), 1)\n",
    "\n",
    "ax.plot(xx, sigmoid1(y))"
   ]
  },
  {
   "cell_type": "code",
   "execution_count": 1,
   "metadata": {},
   "outputs": [],
   "source": [
    "import numpy as np\n",
    "import time"
   ]
  },
  {
   "cell_type": "code",
   "execution_count": 4,
   "metadata": {},
   "outputs": [
    {
     "name": "stdout",
     "output_type": "stream",
     "text": [
      "Time taken to multiply two 5000x5000 matrices: 1.4942996501922607 seconds\n"
     ]
    }
   ],
   "source": [
    "def measure_speed(size):\n",
    "    # Generate two random matrices\n",
    "    A = np.random.rand(size, size)\n",
    "    B = np.random.rand(size, size)\n",
    "\n",
    "    # Start the clock\n",
    "    start_time = time.time()\n",
    "\n",
    "    # Matrix multiplication\n",
    "    C = np.dot(A, B)\n",
    "\n",
    "    # Stop the clock\n",
    "    end_time = time.time()\n",
    "\n",
    "    # Compute and return the time taken\n",
    "    return end_time - start_time\n",
    "\n",
    "# Test with a 1000x1000 matrix\n",
    "size = 5000\n",
    "time_taken = measure_speed(size)\n",
    "print(f\"Time taken to multiply two {size}x{size} matrices: {time_taken} seconds\")"
   ]
  }
 ],
 "metadata": {
  "kernelspec": {
   "display_name": "spec",
   "language": "python",
   "name": "python3"
  },
  "language_info": {
   "codemirror_mode": {
    "name": "ipython",
    "version": 3
   },
   "file_extension": ".py",
   "mimetype": "text/x-python",
   "name": "python",
   "nbconvert_exporter": "python",
   "pygments_lexer": "ipython3",
   "version": "3.11.7"
  }
 },
 "nbformat": 4,
 "nbformat_minor": 2
}
