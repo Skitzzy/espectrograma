{
 "cells": [
  {
   "cell_type": "code",
   "execution_count": 7,
   "metadata": {},
   "outputs": [],
   "source": [
    "import json"
   ]
  },
  {
   "cell_type": "code",
   "execution_count": 3,
   "metadata": {},
   "outputs": [],
   "source": [
    "C_major = ['C', 'D', 'E', 'F', 'G', 'A', 'B']\n",
    "C_minor = ['C', 'D', 'D#', 'F', 'G', 'G#', 'A#']\n",
    "D_major = ['D', 'E', 'F#', 'G', 'A', 'B', 'C#']\n",
    "D_minor = ['D', 'E', 'F', 'G', 'A', 'A#', 'C']\n",
    "E_major = ['E', 'F#', 'G#', 'A', 'B', 'C#', 'D#']\n",
    "E_minor = ['E', 'F#', 'G', 'A', 'B', 'C', 'D']\n",
    "F_major = ['F', 'G', 'A', 'A#', 'C', 'D', 'E']\n",
    "F_minor = ['F', 'G', 'G#', 'A#', 'C', 'C#', 'D#']\n",
    "G_major = ['G', 'A', 'B', 'C', 'D', 'E', 'F#']\n",
    "G_minor = ['G', 'A', 'A#', 'C', 'D', 'D#', 'F']\n",
    "A_major = ['A', 'B', 'C#', 'D', 'E', 'F#', 'G#']\n",
    "A_minor = ['A', 'B', 'C', 'D', 'E', 'F', 'G']\n",
    "B_major = ['B', 'C#', 'D#', 'E', 'F#', 'G#', 'A#']\n",
    "B_minor = ['B', 'C#', 'D', 'E', 'F#', 'G', 'A']\n",
    "\n",
    "scales = [C_major, C_minor, D_major, D_minor, E_major, E_minor, F_major, F_minor, G_major, G_minor, A_major, A_minor, B_major, B_minor]\n",
    "scales_str = ['C_major', 'C_minor', 'D_major', 'D_minor', 'E_major', 'E_minor', 'F_major', 'F_minor', 'G_major', 'G_minor', 'A_major', 'A_minor', 'B_major', 'B_minor']\n",
    "\n",
    "scales_dic = {}\n",
    "\n",
    "for i, scale_str in enumerate(scales_str):\n",
    "    scales_dic[scale_str] = []\n",
    "    for j in range(1,8+1):\n",
    "        for k in scales[i]:\n",
    "            scales_dic[scale_str].append(k+str(j))\n",
    "    \n",
    "    \n",
    "# save scales_dic as json\n",
    "\n",
    "with open('scales.json', 'w') as fp:\n",
    "    json.dump(scales_dic, fp)\n",
    "    \n",
    "\n"
   ]
  },
  {
   "cell_type": "code",
   "execution_count": 6,
   "metadata": {},
   "outputs": [
    {
     "data": {
      "text/plain": [
       "['C1',\n",
       " 'D1',\n",
       " 'D#1',\n",
       " 'F1',\n",
       " 'G1',\n",
       " 'G#1',\n",
       " 'A#1',\n",
       " 'C2',\n",
       " 'D2',\n",
       " 'D#2',\n",
       " 'F2',\n",
       " 'G2',\n",
       " 'G#2',\n",
       " 'A#2',\n",
       " 'C3',\n",
       " 'D3',\n",
       " 'D#3',\n",
       " 'F3',\n",
       " 'G3',\n",
       " 'G#3',\n",
       " 'A#3',\n",
       " 'C4',\n",
       " 'D4',\n",
       " 'D#4',\n",
       " 'F4',\n",
       " 'G4',\n",
       " 'G#4',\n",
       " 'A#4',\n",
       " 'C5',\n",
       " 'D5',\n",
       " 'D#5',\n",
       " 'F5',\n",
       " 'G5',\n",
       " 'G#5',\n",
       " 'A#5',\n",
       " 'C6',\n",
       " 'D6',\n",
       " 'D#6',\n",
       " 'F6',\n",
       " 'G6',\n",
       " 'G#6',\n",
       " 'A#6',\n",
       " 'C7',\n",
       " 'D7',\n",
       " 'D#7',\n",
       " 'F7',\n",
       " 'G7',\n",
       " 'G#7',\n",
       " 'A#7',\n",
       " 'C8',\n",
       " 'D8',\n",
       " 'D#8',\n",
       " 'F8',\n",
       " 'G8',\n",
       " 'G#8',\n",
       " 'A#8']"
      ]
     },
     "execution_count": 6,
     "metadata": {},
     "output_type": "execute_result"
    }
   ],
   "source": []
  },
  {
   "cell_type": "code",
   "execution_count": null,
   "metadata": {},
   "outputs": [],
   "source": []
  }
 ],
 "metadata": {
  "kernelspec": {
   "display_name": "spec",
   "language": "python",
   "name": "python3"
  },
  "language_info": {
   "codemirror_mode": {
    "name": "ipython",
    "version": 3
   },
   "file_extension": ".py",
   "mimetype": "text/x-python",
   "name": "python",
   "nbconvert_exporter": "python",
   "pygments_lexer": "ipython3",
   "version": "3.11.7"
  }
 },
 "nbformat": 4,
 "nbformat_minor": 2
}
