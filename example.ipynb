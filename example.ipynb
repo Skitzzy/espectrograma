{
 "cells": [
  {
   "cell_type": "code",
   "execution_count": 1,
   "metadata": {},
   "outputs": [],
   "source": [
    "%reload_ext autoreload\n",
    "%autoreload 2\n",
    "\n",
    "import matplotlib as mpl\n",
    "mpl.rcParams['font.family'] = 'monospace'  # Set the text font\n",
    "\n",
    "from main import Spectrogram"
   ]
  },
  {
   "cell_type": "markdown",
   "metadata": {},
   "source": [
    "Default Example"
   ]
  },
  {
   "cell_type": "code",
   "execution_count": 6,
   "metadata": {},
   "outputs": [],
   "source": [
    "path_audio = 'songs/bach_A_minor.mp3'\n",
    "\n",
    "Spec = Spectrogram(path_audio)\n",
    "\n",
    "# Set the frequency range (notes or frequency values)\n",
    "Spec.set_freq_range('C#4', 'F#6')\n",
    "\n",
    "# Set the window size of the spectrogram\n",
    "window_size = 0.1  # seconds\n",
    "Spec.make_spectrogram(window_size)\n",
    "\n",
    "Spec.set_title(title='Partita A Minor - J. S. Bach')\n",
    "\n",
    "savepath = 'Bach_A_minor.png'\n",
    "Spec.plot(savepath=savepath)"
   ]
  },
  {
   "cell_type": "markdown",
   "metadata": {},
   "source": [
    "Example changing parameters"
   ]
  },
  {
   "cell_type": "code",
   "execution_count": 31,
   "metadata": {},
   "outputs": [
    {
     "name": "stdout",
     "output_type": "stream",
     "text": [
      "(181, 611)\n"
     ]
    }
   ],
   "source": [
    "path_audio = 'songs/moonlight.mp3'\n",
    "\n",
    "Spec = Spectrogram(path_audio)\n",
    "\n",
    "# Set the frequency range (notes or frequency values)\n",
    "Spec.set_freq_range('A1', 'A#4')\n",
    "\n",
    "# Set the window size of the spectrogram\n",
    "window_size = 0.3  # seconds\n",
    "\n",
    "Spec.make_spectrogram(window_size,\n",
    "                      frequency_resolution=200, # x-axis resolution\n",
    "                      moving_average=10  # size of rolling mean window\n",
    "                      )\n",
    "\n",
    "Spec.set_plot_params(\n",
    "                     fig_size=1920,\n",
    "                     ratio=16/9, # desired ratio\n",
    "                     scale=0.8,  # scale the plot on y axis\n",
    "                     number_lines=100,  # number of horizontal lines\n",
    "                     facecolor='#242424', \n",
    "                     cmap1=('binary', 0.5, 0.8),  # base colormap and range\n",
    "                     cmap2=('cool', 0, 1),   # colormap for notes\n",
    "                     linewidth=0.055,\n",
    "                     y_max=1.1,  # adjust for top padding\n",
    "                     color_spectra_power=2,  # higher for more spectral color (cmap2)\n",
    "                     )\n",
    "\n",
    "Spec.set_title(title='Moonlight Sonata - L. van Beethoven', \n",
    "               modify='l0.5',  # l stands for lightening the color, 0.5 for the amount. Also possible with d for darkening color.\n",
    "               position=(0.015, 0.98))\n",
    "\n",
    "Spec.set_xticks(label_size=1.1, \n",
    "                modify='l0.5', \n",
    "                key='E_major',\n",
    "                label_pad=1.2)\n",
    "\n",
    "Spec.set_yticks(modify='l0.5',\n",
    "                jump=5)\n",
    "\n",
    "savepath = 'figures/moonlight.png'\n",
    "Spec.plot(savepath=savepath)\n",
    "\n",
    "print(Spec.spec.shape)"
   ]
  }
 ],
 "metadata": {
  "kernelspec": {
   "display_name": "spec",
   "language": "python",
   "name": "python3"
  },
  "language_info": {
   "codemirror_mode": {
    "name": "ipython",
    "version": 3
   },
   "file_extension": ".py",
   "mimetype": "text/x-python",
   "name": "python",
   "nbconvert_exporter": "python",
   "pygments_lexer": "ipython3",
   "version": "3.11.7"
  }
 },
 "nbformat": 4,
 "nbformat_minor": 2
}
