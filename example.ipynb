{
 "cells": [
  {
   "cell_type": "code",
   "execution_count": 4,
   "metadata": {},
   "outputs": [],
   "source": [
    "import matplotlib as mpl\n",
    "mpl.rcParams['font.family'] = 'monospace'  # Set the text font\n",
    "\n",
    "from main import Spectrogram"
   ]
  },
  {
   "cell_type": "code",
   "execution_count": 6,
   "metadata": {},
   "outputs": [],
   "source": [
    "path_audio = 'songs/bach_A_minor.mp3'\n",
    "\n",
    "Spec = Spectrogram(path_audio)\n",
    "\n",
    "# Set the frequency range (notes or frequency values)\n",
    "Spec.set_freq_range('C#4', 'F#6')\n",
    "\n",
    "# Set the window size of the spectrogram\n",
    "window_size = 0.1  # seconds\n",
    "Spec.make_spectrogram(window_size)\n",
    "\n",
    "Spec.set_title(title='Partita A Minor - J. S. Bach')\n",
    "\n",
    "savepath = 'Bach_A_minor.png'\n",
    "Spec.plot(savepath=savepath)"
   ]
  },
  {
   "cell_type": "code",
   "execution_count": 11,
   "metadata": {},
   "outputs": [],
   "source": [
    "path_audio = 'songs/bach_A_minor.mp3'\n",
    "\n",
    "Spec = Spectrogram(path_audio)\n",
    "\n",
    "# Set the frequency range (notes or frequency values)\n",
    "Spec.set_freq_range('C4', 'G#6')\n",
    "\n",
    "# Set the window size of the spectrogram\n",
    "window_size = 0.2  # seconds\n",
    "Spec.make_spectrogram(window_size)\n",
    "\n",
    "Spec.set_title(title='Partita A Minor - J. S. Bach', modify='d0.5')\n",
    "Spec.set_xticks(modify='d0.1', key='A_minor')\n",
    "Spec.set_yticks(modify='d0.5')\n",
    "\n",
    "Spec.set_plot_params(\n",
    "                    ratio=16/9,\n",
    "                    number_lines=200,\n",
    "                     facecolor='#eaebcc', \n",
    "                     cmap1=('binary_r', 0.0, 0.8), \n",
    "                     cmap2=('twilight', 0.3, 0.7), \n",
    "                     linewidth=0.055,\n",
    "                     y_max=1.1,\n",
    "                     fig_size=1920,\n",
    "                     color_spectra_power=5)\n",
    "\n",
    "savepath = 'Bach_A_minor.png'\n",
    "Spec.plot(savepath=savepath)"
   ]
  }
 ],
 "metadata": {
  "kernelspec": {
   "display_name": "spec",
   "language": "python",
   "name": "python3"
  },
  "language_info": {
   "codemirror_mode": {
    "name": "ipython",
    "version": 3
   },
   "file_extension": ".py",
   "mimetype": "text/x-python",
   "name": "python",
   "nbconvert_exporter": "python",
   "pygments_lexer": "ipython3",
   "version": "3.11.7"
  }
 },
 "nbformat": 4,
 "nbformat_minor": 2
}
